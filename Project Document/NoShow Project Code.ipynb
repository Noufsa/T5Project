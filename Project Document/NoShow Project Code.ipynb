{
 "cells": [
  {
   "cell_type": "markdown",
   "id": "ff991da6",
   "metadata": {},
   "source": [
    "# Hospital Appointment No Show predication"
   ]
  },
  {
   "cell_type": "code",
   "execution_count": 2,
   "id": "5896494a",
   "metadata": {},
   "outputs": [],
   "source": [
    "import pandas as pd\n",
    "import numpy as np\n",
    "import datetime \n",
    "from time import strftime\n",
    "\n",
    "from sklearn.model_selection import train_test_split\n",
    "from sklearn.model_selection import GridSearchCV\n",
    "from sklearn.preprocessing import LabelEncoder\n",
    "\n",
    "from sklearn.tree import DecisionTreeClassifier\n",
    "from sklearn.ensemble import RandomForestClassifier\n",
    "from sklearn.linear_model import LogisticRegression\n",
    "from sklearn.preprocessing import StandardScaler\n",
    "from sklearn.model_selection import train_test_split\n",
    "from sklearn.metrics import classification_report, confusion_matrix, accuracy_score,f1_score,precision_score,recall_score\n",
    "import matplotlib.pyplot as plt\n",
    "%matplotlib inline\n",
    "import seaborn as sns"
   ]
  },
  {
   "cell_type": "code",
   "execution_count": 3,
   "id": "491ff90f",
   "metadata": {},
   "outputs": [],
   "source": [
    "df = pd.read_csv('No Show.csv')"
   ]
  },
  {
   "cell_type": "code",
   "execution_count": 4,
   "id": "ae74e897",
   "metadata": {},
   "outputs": [
    {
     "name": "stdout",
     "output_type": "stream",
     "text": [
      "<class 'pandas.core.frame.DataFrame'>\n",
      "RangeIndex: 110527 entries, 0 to 110526\n",
      "Data columns (total 14 columns):\n",
      " #   Column          Non-Null Count   Dtype  \n",
      "---  ------          --------------   -----  \n",
      " 0   PatientId       110527 non-null  float64\n",
      " 1   AppointmentID   110527 non-null  int64  \n",
      " 2   Gender          110527 non-null  object \n",
      " 3   ScheduledDay    110527 non-null  object \n",
      " 4   AppointmentDay  110527 non-null  object \n",
      " 5   Age             110527 non-null  int64  \n",
      " 6   Neighbourhood   110527 non-null  object \n",
      " 7   Scholarship     110527 non-null  int64  \n",
      " 8   Hipertension    110527 non-null  int64  \n",
      " 9   Diabetes        110527 non-null  int64  \n",
      " 10  Alcoholism      110527 non-null  int64  \n",
      " 11  Handcap         110527 non-null  int64  \n",
      " 12  SMS_received    110527 non-null  int64  \n",
      " 13  No-show         110527 non-null  object \n",
      "dtypes: float64(1), int64(8), object(5)\n",
      "memory usage: 11.8+ MB\n"
     ]
    },
    {
     "data": {
      "text/html": [
       "<div>\n",
       "<style scoped>\n",
       "    .dataframe tbody tr th:only-of-type {\n",
       "        vertical-align: middle;\n",
       "    }\n",
       "\n",
       "    .dataframe tbody tr th {\n",
       "        vertical-align: top;\n",
       "    }\n",
       "\n",
       "    .dataframe thead th {\n",
       "        text-align: right;\n",
       "    }\n",
       "</style>\n",
       "<table border=\"1\" class=\"dataframe\">\n",
       "  <thead>\n",
       "    <tr style=\"text-align: right;\">\n",
       "      <th></th>\n",
       "      <th>PatientId</th>\n",
       "      <th>AppointmentID</th>\n",
       "      <th>Gender</th>\n",
       "      <th>ScheduledDay</th>\n",
       "      <th>AppointmentDay</th>\n",
       "      <th>Age</th>\n",
       "      <th>Neighbourhood</th>\n",
       "      <th>Scholarship</th>\n",
       "      <th>Hipertension</th>\n",
       "      <th>Diabetes</th>\n",
       "      <th>Alcoholism</th>\n",
       "      <th>Handcap</th>\n",
       "      <th>SMS_received</th>\n",
       "      <th>No-show</th>\n",
       "    </tr>\n",
       "  </thead>\n",
       "  <tbody>\n",
       "    <tr>\n",
       "      <th>0</th>\n",
       "      <td>2.987250e+13</td>\n",
       "      <td>5642903</td>\n",
       "      <td>F</td>\n",
       "      <td>2016-04-29T18:38:08Z</td>\n",
       "      <td>2016-04-29T00:00:00Z</td>\n",
       "      <td>62</td>\n",
       "      <td>JARDIM DA PENHA</td>\n",
       "      <td>0</td>\n",
       "      <td>1</td>\n",
       "      <td>0</td>\n",
       "      <td>0</td>\n",
       "      <td>0</td>\n",
       "      <td>0</td>\n",
       "      <td>No</td>\n",
       "    </tr>\n",
       "    <tr>\n",
       "      <th>1</th>\n",
       "      <td>5.589978e+14</td>\n",
       "      <td>5642503</td>\n",
       "      <td>M</td>\n",
       "      <td>2016-04-29T16:08:27Z</td>\n",
       "      <td>2016-04-29T00:00:00Z</td>\n",
       "      <td>56</td>\n",
       "      <td>JARDIM DA PENHA</td>\n",
       "      <td>0</td>\n",
       "      <td>0</td>\n",
       "      <td>0</td>\n",
       "      <td>0</td>\n",
       "      <td>0</td>\n",
       "      <td>0</td>\n",
       "      <td>No</td>\n",
       "    </tr>\n",
       "    <tr>\n",
       "      <th>2</th>\n",
       "      <td>4.262962e+12</td>\n",
       "      <td>5642549</td>\n",
       "      <td>F</td>\n",
       "      <td>2016-04-29T16:19:04Z</td>\n",
       "      <td>2016-04-29T00:00:00Z</td>\n",
       "      <td>62</td>\n",
       "      <td>MATA DA PRAIA</td>\n",
       "      <td>0</td>\n",
       "      <td>0</td>\n",
       "      <td>0</td>\n",
       "      <td>0</td>\n",
       "      <td>0</td>\n",
       "      <td>0</td>\n",
       "      <td>No</td>\n",
       "    </tr>\n",
       "    <tr>\n",
       "      <th>3</th>\n",
       "      <td>8.679512e+11</td>\n",
       "      <td>5642828</td>\n",
       "      <td>F</td>\n",
       "      <td>2016-04-29T17:29:31Z</td>\n",
       "      <td>2016-04-29T00:00:00Z</td>\n",
       "      <td>8</td>\n",
       "      <td>PONTAL DE CAMBURI</td>\n",
       "      <td>0</td>\n",
       "      <td>0</td>\n",
       "      <td>0</td>\n",
       "      <td>0</td>\n",
       "      <td>0</td>\n",
       "      <td>0</td>\n",
       "      <td>No</td>\n",
       "    </tr>\n",
       "    <tr>\n",
       "      <th>4</th>\n",
       "      <td>8.841186e+12</td>\n",
       "      <td>5642494</td>\n",
       "      <td>F</td>\n",
       "      <td>2016-04-29T16:07:23Z</td>\n",
       "      <td>2016-04-29T00:00:00Z</td>\n",
       "      <td>56</td>\n",
       "      <td>JARDIM DA PENHA</td>\n",
       "      <td>0</td>\n",
       "      <td>1</td>\n",
       "      <td>1</td>\n",
       "      <td>0</td>\n",
       "      <td>0</td>\n",
       "      <td>0</td>\n",
       "      <td>No</td>\n",
       "    </tr>\n",
       "  </tbody>\n",
       "</table>\n",
       "</div>"
      ],
      "text/plain": [
       "      PatientId  AppointmentID Gender          ScheduledDay  \\\n",
       "0  2.987250e+13        5642903      F  2016-04-29T18:38:08Z   \n",
       "1  5.589978e+14        5642503      M  2016-04-29T16:08:27Z   \n",
       "2  4.262962e+12        5642549      F  2016-04-29T16:19:04Z   \n",
       "3  8.679512e+11        5642828      F  2016-04-29T17:29:31Z   \n",
       "4  8.841186e+12        5642494      F  2016-04-29T16:07:23Z   \n",
       "\n",
       "         AppointmentDay  Age      Neighbourhood  Scholarship  Hipertension  \\\n",
       "0  2016-04-29T00:00:00Z   62    JARDIM DA PENHA            0             1   \n",
       "1  2016-04-29T00:00:00Z   56    JARDIM DA PENHA            0             0   \n",
       "2  2016-04-29T00:00:00Z   62      MATA DA PRAIA            0             0   \n",
       "3  2016-04-29T00:00:00Z    8  PONTAL DE CAMBURI            0             0   \n",
       "4  2016-04-29T00:00:00Z   56    JARDIM DA PENHA            0             1   \n",
       "\n",
       "   Diabetes  Alcoholism  Handcap  SMS_received No-show  \n",
       "0         0           0        0             0      No  \n",
       "1         0           0        0             0      No  \n",
       "2         0           0        0             0      No  \n",
       "3         0           0        0             0      No  \n",
       "4         1           0        0             0      No  "
      ]
     },
     "execution_count": 4,
     "metadata": {},
     "output_type": "execute_result"
    }
   ],
   "source": [
    "df.info()\n",
    "df.head()"
   ]
  },
  {
   "cell_type": "markdown",
   "id": "89727a29",
   "metadata": {},
   "source": [
    "## Data Preprocessing"
   ]
  },
  {
   "cell_type": "code",
   "execution_count": 5,
   "id": "269f7b6a",
   "metadata": {},
   "outputs": [],
   "source": [
    "#Change ScheduledDay and AppointmentDay to date\n",
    "df['ScheduledDay'] = pd.to_datetime(df['ScheduledDay']).dt.date.astype('datetime64[ns]')\n",
    "df['AppointmentDay'] = pd.to_datetime(df['AppointmentDay']).dt.date.astype('datetime64[ns]')"
   ]
  },
  {
   "cell_type": "code",
   "execution_count": 6,
   "id": "0da473b4",
   "metadata": {},
   "outputs": [
    {
     "name": "stdout",
     "output_type": "stream",
     "text": [
      "<class 'pandas.core.frame.DataFrame'>\n",
      "RangeIndex: 110527 entries, 0 to 110526\n",
      "Data columns (total 14 columns):\n",
      " #   Column          Non-Null Count   Dtype         \n",
      "---  ------          --------------   -----         \n",
      " 0   PatientId       110527 non-null  float64       \n",
      " 1   AppointmentID   110527 non-null  int64         \n",
      " 2   Gender          110527 non-null  object        \n",
      " 3   ScheduledDay    110527 non-null  datetime64[ns]\n",
      " 4   AppointmentDay  110527 non-null  datetime64[ns]\n",
      " 5   Age             110527 non-null  int64         \n",
      " 6   Neighbourhood   110527 non-null  object        \n",
      " 7   Scholarship     110527 non-null  int64         \n",
      " 8   Hipertension    110527 non-null  int64         \n",
      " 9   Diabetes        110527 non-null  int64         \n",
      " 10  Alcoholism      110527 non-null  int64         \n",
      " 11  Handcap         110527 non-null  int64         \n",
      " 12  SMS_received    110527 non-null  int64         \n",
      " 13  No-show         110527 non-null  object        \n",
      "dtypes: datetime64[ns](2), float64(1), int64(8), object(3)\n",
      "memory usage: 11.8+ MB\n"
     ]
    }
   ],
   "source": [
    "df.info()"
   ]
  },
  {
   "cell_type": "code",
   "execution_count": 7,
   "id": "10679b0c",
   "metadata": {},
   "outputs": [
    {
     "name": "stdout",
     "output_type": "stream",
     "text": [
      "[ 62  56   8  76  23  39  21  19  30  29  22  28  54  15  50  40  46   4\n",
      "  13  65  45  51  32  12  61  38  79  18  63  64  85  59  55  71  49  78\n",
      "  31  58  27   6   2  11   7   0   3   1  69  68  60  67  36  10  35  20\n",
      "  26  34  33  16  42   5  47  17  41  44  37  24  66  77  81  70  53  75\n",
      "  73  52  74  43  89  57  14   9  48  83  72  25  80  87  88  84  82  90\n",
      "  94  86  91  98  92  96  93  95  97 102 115 100  99  -1]\n",
      "['F' 'M']\n",
      "[0 1]\n",
      "[1 0]\n",
      "[0 1]\n",
      "[0 1]\n",
      "[0 1 2 3 4]\n",
      "[0 1]\n"
     ]
    }
   ],
   "source": [
    "# Check The valuse in each column\n",
    "print(df.Age.unique())\n",
    "print(df.Gender.unique())\n",
    "print(df.Scholarship.unique())\n",
    "print(df.Hipertension.unique())\n",
    "print(df.Diabetes.unique())\n",
    "print(df.Alcoholism.unique())\n",
    "print(df.Handcap.unique())\n",
    "print(df.SMS_received.unique())"
   ]
  },
  {
   "cell_type": "code",
   "execution_count": 8,
   "id": "26d523b1",
   "metadata": {},
   "outputs": [
    {
     "data": {
      "text/html": [
       "<div>\n",
       "<style scoped>\n",
       "    .dataframe tbody tr th:only-of-type {\n",
       "        vertical-align: middle;\n",
       "    }\n",
       "\n",
       "    .dataframe tbody tr th {\n",
       "        vertical-align: top;\n",
       "    }\n",
       "\n",
       "    .dataframe thead th {\n",
       "        text-align: right;\n",
       "    }\n",
       "</style>\n",
       "<table border=\"1\" class=\"dataframe\">\n",
       "  <thead>\n",
       "    <tr style=\"text-align: right;\">\n",
       "      <th></th>\n",
       "      <th>PatientId</th>\n",
       "      <th>AppointmentID</th>\n",
       "      <th>Gender</th>\n",
       "      <th>ScheduledDay</th>\n",
       "      <th>AppointmentDay</th>\n",
       "      <th>Age</th>\n",
       "      <th>Neighbourhood</th>\n",
       "      <th>Scholarship</th>\n",
       "      <th>Hipertension</th>\n",
       "      <th>Diabetes</th>\n",
       "      <th>Alcoholism</th>\n",
       "      <th>Handcap</th>\n",
       "      <th>SMS_received</th>\n",
       "      <th>No-show</th>\n",
       "    </tr>\n",
       "  </thead>\n",
       "  <tbody>\n",
       "    <tr>\n",
       "      <th>99832</th>\n",
       "      <td>4.659432e+14</td>\n",
       "      <td>5775010</td>\n",
       "      <td>F</td>\n",
       "      <td>2016-06-06</td>\n",
       "      <td>2016-06-06</td>\n",
       "      <td>-1</td>\n",
       "      <td>ROMÃO</td>\n",
       "      <td>0</td>\n",
       "      <td>0</td>\n",
       "      <td>0</td>\n",
       "      <td>0</td>\n",
       "      <td>0</td>\n",
       "      <td>0</td>\n",
       "      <td>No</td>\n",
       "    </tr>\n",
       "  </tbody>\n",
       "</table>\n",
       "</div>"
      ],
      "text/plain": [
       "          PatientId  AppointmentID Gender ScheduledDay AppointmentDay  Age  \\\n",
       "99832  4.659432e+14        5775010      F   2016-06-06     2016-06-06   -1   \n",
       "\n",
       "      Neighbourhood  Scholarship  Hipertension  Diabetes  Alcoholism  Handcap  \\\n",
       "99832         ROMÃO            0             0         0           0        0   \n",
       "\n",
       "       SMS_received No-show  \n",
       "99832             0      No  "
      ]
     },
     "execution_count": 8,
     "metadata": {},
     "output_type": "execute_result"
    }
   ],
   "source": [
    "#Check the number of patient with age = -1\n",
    "df[df.Age == -1]"
   ]
  },
  {
   "cell_type": "code",
   "execution_count": 9,
   "id": "4ddc305e",
   "metadata": {},
   "outputs": [
    {
     "data": {
      "text/html": [
       "<div>\n",
       "<style scoped>\n",
       "    .dataframe tbody tr th:only-of-type {\n",
       "        vertical-align: middle;\n",
       "    }\n",
       "\n",
       "    .dataframe tbody tr th {\n",
       "        vertical-align: top;\n",
       "    }\n",
       "\n",
       "    .dataframe thead th {\n",
       "        text-align: right;\n",
       "    }\n",
       "</style>\n",
       "<table border=\"1\" class=\"dataframe\">\n",
       "  <thead>\n",
       "    <tr style=\"text-align: right;\">\n",
       "      <th></th>\n",
       "      <th>PatientId</th>\n",
       "      <th>AppointmentID</th>\n",
       "      <th>Gender</th>\n",
       "      <th>ScheduledDay</th>\n",
       "      <th>AppointmentDay</th>\n",
       "      <th>Age</th>\n",
       "      <th>Neighbourhood</th>\n",
       "      <th>Scholarship</th>\n",
       "      <th>Hipertension</th>\n",
       "      <th>Diabetes</th>\n",
       "      <th>Alcoholism</th>\n",
       "      <th>Handcap</th>\n",
       "      <th>SMS_received</th>\n",
       "      <th>No-show</th>\n",
       "    </tr>\n",
       "  </thead>\n",
       "  <tbody>\n",
       "  </tbody>\n",
       "</table>\n",
       "</div>"
      ],
      "text/plain": [
       "Empty DataFrame\n",
       "Columns: [PatientId, AppointmentID, Gender, ScheduledDay, AppointmentDay, Age, Neighbourhood, Scholarship, Hipertension, Diabetes, Alcoholism, Handcap, SMS_received, No-show]\n",
       "Index: []"
      ]
     },
     "execution_count": 9,
     "metadata": {},
     "output_type": "execute_result"
    }
   ],
   "source": [
    "#only one patinet wiht age = 0 remove this record\n",
    "df = df[df.Age >= 0]\n",
    "df[df.Age == -1]"
   ]
  },
  {
   "cell_type": "code",
   "execution_count": 10,
   "id": "23b168df",
   "metadata": {},
   "outputs": [
    {
     "data": {
      "text/plain": [
       "array([False,  True])"
      ]
     },
     "execution_count": 10,
     "metadata": {},
     "output_type": "execute_result"
    }
   ],
   "source": [
    "#Adding Waiting Time\n",
    "# Check if there is minus cases on wating time calculation\n",
    "((df['AppointmentDay'] - df['ScheduledDay']).dt.days < 0).unique()"
   ]
  },
  {
   "cell_type": "code",
   "execution_count": 11,
   "id": "96bceb96",
   "metadata": {},
   "outputs": [],
   "source": [
    "#Assuming this error and will swich between the Scedule day  and appointment day \n",
    "df['AppointmentDay_New'] = np.where((df['AppointmentDay'] - df['ScheduledDay']).dt.days < 0\n",
    "                                    , df['ScheduledDay'], df['AppointmentDay'])\n",
    "df['ScheduledDay_New'] = np.where((df['AppointmentDay'] - df['ScheduledDay']).dt.days < 0\n",
    "                                  ,df['AppointmentDay'], df['ScheduledDay'])"
   ]
  },
  {
   "cell_type": "code",
   "execution_count": 12,
   "id": "4082772f",
   "metadata": {},
   "outputs": [
    {
     "data": {
      "text/plain": [
       "array([False])"
      ]
     },
     "execution_count": 12,
     "metadata": {},
     "output_type": "execute_result"
    }
   ],
   "source": [
    "# Check if still there is minus cases on wating time calculation\n",
    "((df['AppointmentDay_New'] - df['ScheduledDay_New']).dt.days < 0).unique()"
   ]
  },
  {
   "cell_type": "code",
   "execution_count": 13,
   "id": "f3d61fc9",
   "metadata": {},
   "outputs": [
    {
     "data": {
      "text/html": [
       "<div>\n",
       "<style scoped>\n",
       "    .dataframe tbody tr th:only-of-type {\n",
       "        vertical-align: middle;\n",
       "    }\n",
       "\n",
       "    .dataframe tbody tr th {\n",
       "        vertical-align: top;\n",
       "    }\n",
       "\n",
       "    .dataframe thead th {\n",
       "        text-align: right;\n",
       "    }\n",
       "</style>\n",
       "<table border=\"1\" class=\"dataframe\">\n",
       "  <thead>\n",
       "    <tr style=\"text-align: right;\">\n",
       "      <th></th>\n",
       "      <th>PatientId</th>\n",
       "      <th>AppointmentID</th>\n",
       "      <th>Gender</th>\n",
       "      <th>ScheduledDay</th>\n",
       "      <th>AppointmentDay</th>\n",
       "      <th>Age</th>\n",
       "      <th>Neighbourhood</th>\n",
       "      <th>Scholarship</th>\n",
       "      <th>Hipertension</th>\n",
       "      <th>Diabetes</th>\n",
       "      <th>Alcoholism</th>\n",
       "      <th>Handcap</th>\n",
       "      <th>SMS_received</th>\n",
       "      <th>No-show</th>\n",
       "      <th>AppointmentDay_New</th>\n",
       "      <th>ScheduledDay_New</th>\n",
       "      <th>Waiting_Days</th>\n",
       "    </tr>\n",
       "  </thead>\n",
       "  <tbody>\n",
       "    <tr>\n",
       "      <th>0</th>\n",
       "      <td>2.987250e+13</td>\n",
       "      <td>5642903</td>\n",
       "      <td>F</td>\n",
       "      <td>2016-04-29</td>\n",
       "      <td>2016-04-29</td>\n",
       "      <td>62</td>\n",
       "      <td>JARDIM DA PENHA</td>\n",
       "      <td>0</td>\n",
       "      <td>1</td>\n",
       "      <td>0</td>\n",
       "      <td>0</td>\n",
       "      <td>0</td>\n",
       "      <td>0</td>\n",
       "      <td>No</td>\n",
       "      <td>2016-04-29</td>\n",
       "      <td>2016-04-29</td>\n",
       "      <td>0</td>\n",
       "    </tr>\n",
       "    <tr>\n",
       "      <th>1</th>\n",
       "      <td>5.589978e+14</td>\n",
       "      <td>5642503</td>\n",
       "      <td>M</td>\n",
       "      <td>2016-04-29</td>\n",
       "      <td>2016-04-29</td>\n",
       "      <td>56</td>\n",
       "      <td>JARDIM DA PENHA</td>\n",
       "      <td>0</td>\n",
       "      <td>0</td>\n",
       "      <td>0</td>\n",
       "      <td>0</td>\n",
       "      <td>0</td>\n",
       "      <td>0</td>\n",
       "      <td>No</td>\n",
       "      <td>2016-04-29</td>\n",
       "      <td>2016-04-29</td>\n",
       "      <td>0</td>\n",
       "    </tr>\n",
       "    <tr>\n",
       "      <th>2</th>\n",
       "      <td>4.262962e+12</td>\n",
       "      <td>5642549</td>\n",
       "      <td>F</td>\n",
       "      <td>2016-04-29</td>\n",
       "      <td>2016-04-29</td>\n",
       "      <td>62</td>\n",
       "      <td>MATA DA PRAIA</td>\n",
       "      <td>0</td>\n",
       "      <td>0</td>\n",
       "      <td>0</td>\n",
       "      <td>0</td>\n",
       "      <td>0</td>\n",
       "      <td>0</td>\n",
       "      <td>No</td>\n",
       "      <td>2016-04-29</td>\n",
       "      <td>2016-04-29</td>\n",
       "      <td>0</td>\n",
       "    </tr>\n",
       "    <tr>\n",
       "      <th>3</th>\n",
       "      <td>8.679512e+11</td>\n",
       "      <td>5642828</td>\n",
       "      <td>F</td>\n",
       "      <td>2016-04-29</td>\n",
       "      <td>2016-04-29</td>\n",
       "      <td>8</td>\n",
       "      <td>PONTAL DE CAMBURI</td>\n",
       "      <td>0</td>\n",
       "      <td>0</td>\n",
       "      <td>0</td>\n",
       "      <td>0</td>\n",
       "      <td>0</td>\n",
       "      <td>0</td>\n",
       "      <td>No</td>\n",
       "      <td>2016-04-29</td>\n",
       "      <td>2016-04-29</td>\n",
       "      <td>0</td>\n",
       "    </tr>\n",
       "    <tr>\n",
       "      <th>4</th>\n",
       "      <td>8.841186e+12</td>\n",
       "      <td>5642494</td>\n",
       "      <td>F</td>\n",
       "      <td>2016-04-29</td>\n",
       "      <td>2016-04-29</td>\n",
       "      <td>56</td>\n",
       "      <td>JARDIM DA PENHA</td>\n",
       "      <td>0</td>\n",
       "      <td>1</td>\n",
       "      <td>1</td>\n",
       "      <td>0</td>\n",
       "      <td>0</td>\n",
       "      <td>0</td>\n",
       "      <td>No</td>\n",
       "      <td>2016-04-29</td>\n",
       "      <td>2016-04-29</td>\n",
       "      <td>0</td>\n",
       "    </tr>\n",
       "  </tbody>\n",
       "</table>\n",
       "</div>"
      ],
      "text/plain": [
       "      PatientId  AppointmentID Gender ScheduledDay AppointmentDay  Age  \\\n",
       "0  2.987250e+13        5642903      F   2016-04-29     2016-04-29   62   \n",
       "1  5.589978e+14        5642503      M   2016-04-29     2016-04-29   56   \n",
       "2  4.262962e+12        5642549      F   2016-04-29     2016-04-29   62   \n",
       "3  8.679512e+11        5642828      F   2016-04-29     2016-04-29    8   \n",
       "4  8.841186e+12        5642494      F   2016-04-29     2016-04-29   56   \n",
       "\n",
       "       Neighbourhood  Scholarship  Hipertension  Diabetes  Alcoholism  \\\n",
       "0    JARDIM DA PENHA            0             1         0           0   \n",
       "1    JARDIM DA PENHA            0             0         0           0   \n",
       "2      MATA DA PRAIA            0             0         0           0   \n",
       "3  PONTAL DE CAMBURI            0             0         0           0   \n",
       "4    JARDIM DA PENHA            0             1         1           0   \n",
       "\n",
       "   Handcap  SMS_received No-show AppointmentDay_New ScheduledDay_New  \\\n",
       "0        0             0      No         2016-04-29       2016-04-29   \n",
       "1        0             0      No         2016-04-29       2016-04-29   \n",
       "2        0             0      No         2016-04-29       2016-04-29   \n",
       "3        0             0      No         2016-04-29       2016-04-29   \n",
       "4        0             0      No         2016-04-29       2016-04-29   \n",
       "\n",
       "   Waiting_Days  \n",
       "0             0  \n",
       "1             0  \n",
       "2             0  \n",
       "3             0  \n",
       "4             0  "
      ]
     },
     "execution_count": 13,
     "metadata": {},
     "output_type": "execute_result"
    }
   ],
   "source": [
    "#Adding Waitng Days\n",
    "df['Waiting_Days']= (df['AppointmentDay_New'] - df['ScheduledDay_New']).dt.days\n",
    "df.head()"
   ]
  },
  {
   "cell_type": "code",
   "execution_count": 14,
   "id": "4469b91d",
   "metadata": {},
   "outputs": [
    {
     "data": {
      "text/html": [
       "<div>\n",
       "<style scoped>\n",
       "    .dataframe tbody tr th:only-of-type {\n",
       "        vertical-align: middle;\n",
       "    }\n",
       "\n",
       "    .dataframe tbody tr th {\n",
       "        vertical-align: top;\n",
       "    }\n",
       "\n",
       "    .dataframe thead th {\n",
       "        text-align: right;\n",
       "    }\n",
       "</style>\n",
       "<table border=\"1\" class=\"dataframe\">\n",
       "  <thead>\n",
       "    <tr style=\"text-align: right;\">\n",
       "      <th></th>\n",
       "      <th>PatientId</th>\n",
       "      <th>AppointmentID</th>\n",
       "      <th>Gender</th>\n",
       "      <th>ScheduledDay</th>\n",
       "      <th>AppointmentDay</th>\n",
       "      <th>Age</th>\n",
       "      <th>Neighbourhood</th>\n",
       "      <th>Scholarship</th>\n",
       "      <th>Hipertension</th>\n",
       "      <th>Diabetes</th>\n",
       "      <th>...</th>\n",
       "      <th>ScheduledDay_New</th>\n",
       "      <th>Waiting_Days</th>\n",
       "      <th>ScheduledDay_DOW</th>\n",
       "      <th>AppointmentDay_DOW</th>\n",
       "      <th>ScheduledDay_Y</th>\n",
       "      <th>ScheduledDay_M</th>\n",
       "      <th>ScheduledDay_D</th>\n",
       "      <th>AppointmentDay_Y</th>\n",
       "      <th>AppointmentDay_M</th>\n",
       "      <th>AppointmentDay_D</th>\n",
       "    </tr>\n",
       "  </thead>\n",
       "  <tbody>\n",
       "    <tr>\n",
       "      <th>0</th>\n",
       "      <td>2.987250e+13</td>\n",
       "      <td>5642903</td>\n",
       "      <td>F</td>\n",
       "      <td>2016-04-29</td>\n",
       "      <td>2016-04-29</td>\n",
       "      <td>62</td>\n",
       "      <td>JARDIM DA PENHA</td>\n",
       "      <td>0</td>\n",
       "      <td>1</td>\n",
       "      <td>0</td>\n",
       "      <td>...</td>\n",
       "      <td>2016-04-29</td>\n",
       "      <td>0</td>\n",
       "      <td>Friday</td>\n",
       "      <td>Friday</td>\n",
       "      <td>2016</td>\n",
       "      <td>4</td>\n",
       "      <td>29</td>\n",
       "      <td>2016</td>\n",
       "      <td>4</td>\n",
       "      <td>29</td>\n",
       "    </tr>\n",
       "    <tr>\n",
       "      <th>1</th>\n",
       "      <td>5.589978e+14</td>\n",
       "      <td>5642503</td>\n",
       "      <td>M</td>\n",
       "      <td>2016-04-29</td>\n",
       "      <td>2016-04-29</td>\n",
       "      <td>56</td>\n",
       "      <td>JARDIM DA PENHA</td>\n",
       "      <td>0</td>\n",
       "      <td>0</td>\n",
       "      <td>0</td>\n",
       "      <td>...</td>\n",
       "      <td>2016-04-29</td>\n",
       "      <td>0</td>\n",
       "      <td>Friday</td>\n",
       "      <td>Friday</td>\n",
       "      <td>2016</td>\n",
       "      <td>4</td>\n",
       "      <td>29</td>\n",
       "      <td>2016</td>\n",
       "      <td>4</td>\n",
       "      <td>29</td>\n",
       "    </tr>\n",
       "    <tr>\n",
       "      <th>2</th>\n",
       "      <td>4.262962e+12</td>\n",
       "      <td>5642549</td>\n",
       "      <td>F</td>\n",
       "      <td>2016-04-29</td>\n",
       "      <td>2016-04-29</td>\n",
       "      <td>62</td>\n",
       "      <td>MATA DA PRAIA</td>\n",
       "      <td>0</td>\n",
       "      <td>0</td>\n",
       "      <td>0</td>\n",
       "      <td>...</td>\n",
       "      <td>2016-04-29</td>\n",
       "      <td>0</td>\n",
       "      <td>Friday</td>\n",
       "      <td>Friday</td>\n",
       "      <td>2016</td>\n",
       "      <td>4</td>\n",
       "      <td>29</td>\n",
       "      <td>2016</td>\n",
       "      <td>4</td>\n",
       "      <td>29</td>\n",
       "    </tr>\n",
       "    <tr>\n",
       "      <th>3</th>\n",
       "      <td>8.679512e+11</td>\n",
       "      <td>5642828</td>\n",
       "      <td>F</td>\n",
       "      <td>2016-04-29</td>\n",
       "      <td>2016-04-29</td>\n",
       "      <td>8</td>\n",
       "      <td>PONTAL DE CAMBURI</td>\n",
       "      <td>0</td>\n",
       "      <td>0</td>\n",
       "      <td>0</td>\n",
       "      <td>...</td>\n",
       "      <td>2016-04-29</td>\n",
       "      <td>0</td>\n",
       "      <td>Friday</td>\n",
       "      <td>Friday</td>\n",
       "      <td>2016</td>\n",
       "      <td>4</td>\n",
       "      <td>29</td>\n",
       "      <td>2016</td>\n",
       "      <td>4</td>\n",
       "      <td>29</td>\n",
       "    </tr>\n",
       "    <tr>\n",
       "      <th>4</th>\n",
       "      <td>8.841186e+12</td>\n",
       "      <td>5642494</td>\n",
       "      <td>F</td>\n",
       "      <td>2016-04-29</td>\n",
       "      <td>2016-04-29</td>\n",
       "      <td>56</td>\n",
       "      <td>JARDIM DA PENHA</td>\n",
       "      <td>0</td>\n",
       "      <td>1</td>\n",
       "      <td>1</td>\n",
       "      <td>...</td>\n",
       "      <td>2016-04-29</td>\n",
       "      <td>0</td>\n",
       "      <td>Friday</td>\n",
       "      <td>Friday</td>\n",
       "      <td>2016</td>\n",
       "      <td>4</td>\n",
       "      <td>29</td>\n",
       "      <td>2016</td>\n",
       "      <td>4</td>\n",
       "      <td>29</td>\n",
       "    </tr>\n",
       "  </tbody>\n",
       "</table>\n",
       "<p>5 rows × 25 columns</p>\n",
       "</div>"
      ],
      "text/plain": [
       "      PatientId  AppointmentID Gender ScheduledDay AppointmentDay  Age  \\\n",
       "0  2.987250e+13        5642903      F   2016-04-29     2016-04-29   62   \n",
       "1  5.589978e+14        5642503      M   2016-04-29     2016-04-29   56   \n",
       "2  4.262962e+12        5642549      F   2016-04-29     2016-04-29   62   \n",
       "3  8.679512e+11        5642828      F   2016-04-29     2016-04-29    8   \n",
       "4  8.841186e+12        5642494      F   2016-04-29     2016-04-29   56   \n",
       "\n",
       "       Neighbourhood  Scholarship  Hipertension  Diabetes  ...  \\\n",
       "0    JARDIM DA PENHA            0             1         0  ...   \n",
       "1    JARDIM DA PENHA            0             0         0  ...   \n",
       "2      MATA DA PRAIA            0             0         0  ...   \n",
       "3  PONTAL DE CAMBURI            0             0         0  ...   \n",
       "4    JARDIM DA PENHA            0             1         1  ...   \n",
       "\n",
       "   ScheduledDay_New  Waiting_Days  ScheduledDay_DOW AppointmentDay_DOW  \\\n",
       "0        2016-04-29             0            Friday             Friday   \n",
       "1        2016-04-29             0            Friday             Friday   \n",
       "2        2016-04-29             0            Friday             Friday   \n",
       "3        2016-04-29             0            Friday             Friday   \n",
       "4        2016-04-29             0            Friday             Friday   \n",
       "\n",
       "  ScheduledDay_Y ScheduledDay_M  ScheduledDay_D AppointmentDay_Y  \\\n",
       "0           2016              4              29             2016   \n",
       "1           2016              4              29             2016   \n",
       "2           2016              4              29             2016   \n",
       "3           2016              4              29             2016   \n",
       "4           2016              4              29             2016   \n",
       "\n",
       "  AppointmentDay_M  AppointmentDay_D  \n",
       "0                4                29  \n",
       "1                4                29  \n",
       "2                4                29  \n",
       "3                4                29  \n",
       "4                4                29  \n",
       "\n",
       "[5 rows x 25 columns]"
      ]
     },
     "execution_count": 14,
     "metadata": {},
     "output_type": "execute_result"
    }
   ],
   "source": [
    "#Adding Appointment & Schedule Week day,year,month and day\n",
    "df['ScheduledDay_DOW'] = df['ScheduledDay_New'].dt.day_name()\n",
    "df['AppointmentDay_DOW'] = df['AppointmentDay_New'].dt.day_name()\n",
    "\n",
    "df['ScheduledDay_Y'] = df['ScheduledDay_New'].dt.year\n",
    "df['ScheduledDay_M'] = df['ScheduledDay_New'].dt.month\n",
    "df['ScheduledDay_D'] = df['ScheduledDay_New'].dt.day\n",
    "\n",
    "df['AppointmentDay_Y'] = df['AppointmentDay_New'].dt.year\n",
    "df['AppointmentDay_M'] = df['AppointmentDay_New'].dt.month\n",
    "df['AppointmentDay_D'] = df['AppointmentDay_New'].dt.day\n",
    "        \n",
    "df.head()\n",
    "df.head()"
   ]
  },
  {
   "cell_type": "code",
   "execution_count": 15,
   "id": "02331d08",
   "metadata": {
    "scrolled": true
   },
   "outputs": [
    {
     "data": {
      "text/html": [
       "<div>\n",
       "<style scoped>\n",
       "    .dataframe tbody tr th:only-of-type {\n",
       "        vertical-align: middle;\n",
       "    }\n",
       "\n",
       "    .dataframe tbody tr th {\n",
       "        vertical-align: top;\n",
       "    }\n",
       "\n",
       "    .dataframe thead th {\n",
       "        text-align: right;\n",
       "    }\n",
       "</style>\n",
       "<table border=\"1\" class=\"dataframe\">\n",
       "  <thead>\n",
       "    <tr style=\"text-align: right;\">\n",
       "      <th></th>\n",
       "      <th>Gender</th>\n",
       "      <th>Age</th>\n",
       "      <th>Neighbourhood</th>\n",
       "      <th>Scholarship</th>\n",
       "      <th>Hipertension</th>\n",
       "      <th>Diabetes</th>\n",
       "      <th>Alcoholism</th>\n",
       "      <th>Handcap</th>\n",
       "      <th>SMS_received</th>\n",
       "      <th>No-show</th>\n",
       "      <th>Waiting_Days</th>\n",
       "      <th>ScheduledDay_DOW</th>\n",
       "      <th>AppointmentDay_DOW</th>\n",
       "      <th>ScheduledDay_Y</th>\n",
       "      <th>ScheduledDay_M</th>\n",
       "      <th>ScheduledDay_D</th>\n",
       "      <th>AppointmentDay_Y</th>\n",
       "      <th>AppointmentDay_M</th>\n",
       "      <th>AppointmentDay_D</th>\n",
       "    </tr>\n",
       "  </thead>\n",
       "  <tbody>\n",
       "    <tr>\n",
       "      <th>0</th>\n",
       "      <td>F</td>\n",
       "      <td>62</td>\n",
       "      <td>JARDIM DA PENHA</td>\n",
       "      <td>0</td>\n",
       "      <td>1</td>\n",
       "      <td>0</td>\n",
       "      <td>0</td>\n",
       "      <td>0</td>\n",
       "      <td>0</td>\n",
       "      <td>No</td>\n",
       "      <td>0</td>\n",
       "      <td>Friday</td>\n",
       "      <td>Friday</td>\n",
       "      <td>2016</td>\n",
       "      <td>4</td>\n",
       "      <td>29</td>\n",
       "      <td>2016</td>\n",
       "      <td>4</td>\n",
       "      <td>29</td>\n",
       "    </tr>\n",
       "    <tr>\n",
       "      <th>1</th>\n",
       "      <td>M</td>\n",
       "      <td>56</td>\n",
       "      <td>JARDIM DA PENHA</td>\n",
       "      <td>0</td>\n",
       "      <td>0</td>\n",
       "      <td>0</td>\n",
       "      <td>0</td>\n",
       "      <td>0</td>\n",
       "      <td>0</td>\n",
       "      <td>No</td>\n",
       "      <td>0</td>\n",
       "      <td>Friday</td>\n",
       "      <td>Friday</td>\n",
       "      <td>2016</td>\n",
       "      <td>4</td>\n",
       "      <td>29</td>\n",
       "      <td>2016</td>\n",
       "      <td>4</td>\n",
       "      <td>29</td>\n",
       "    </tr>\n",
       "    <tr>\n",
       "      <th>2</th>\n",
       "      <td>F</td>\n",
       "      <td>62</td>\n",
       "      <td>MATA DA PRAIA</td>\n",
       "      <td>0</td>\n",
       "      <td>0</td>\n",
       "      <td>0</td>\n",
       "      <td>0</td>\n",
       "      <td>0</td>\n",
       "      <td>0</td>\n",
       "      <td>No</td>\n",
       "      <td>0</td>\n",
       "      <td>Friday</td>\n",
       "      <td>Friday</td>\n",
       "      <td>2016</td>\n",
       "      <td>4</td>\n",
       "      <td>29</td>\n",
       "      <td>2016</td>\n",
       "      <td>4</td>\n",
       "      <td>29</td>\n",
       "    </tr>\n",
       "    <tr>\n",
       "      <th>3</th>\n",
       "      <td>F</td>\n",
       "      <td>8</td>\n",
       "      <td>PONTAL DE CAMBURI</td>\n",
       "      <td>0</td>\n",
       "      <td>0</td>\n",
       "      <td>0</td>\n",
       "      <td>0</td>\n",
       "      <td>0</td>\n",
       "      <td>0</td>\n",
       "      <td>No</td>\n",
       "      <td>0</td>\n",
       "      <td>Friday</td>\n",
       "      <td>Friday</td>\n",
       "      <td>2016</td>\n",
       "      <td>4</td>\n",
       "      <td>29</td>\n",
       "      <td>2016</td>\n",
       "      <td>4</td>\n",
       "      <td>29</td>\n",
       "    </tr>\n",
       "    <tr>\n",
       "      <th>4</th>\n",
       "      <td>F</td>\n",
       "      <td>56</td>\n",
       "      <td>JARDIM DA PENHA</td>\n",
       "      <td>0</td>\n",
       "      <td>1</td>\n",
       "      <td>1</td>\n",
       "      <td>0</td>\n",
       "      <td>0</td>\n",
       "      <td>0</td>\n",
       "      <td>No</td>\n",
       "      <td>0</td>\n",
       "      <td>Friday</td>\n",
       "      <td>Friday</td>\n",
       "      <td>2016</td>\n",
       "      <td>4</td>\n",
       "      <td>29</td>\n",
       "      <td>2016</td>\n",
       "      <td>4</td>\n",
       "      <td>29</td>\n",
       "    </tr>\n",
       "  </tbody>\n",
       "</table>\n",
       "</div>"
      ],
      "text/plain": [
       "  Gender  Age      Neighbourhood  Scholarship  Hipertension  Diabetes  \\\n",
       "0      F   62    JARDIM DA PENHA            0             1         0   \n",
       "1      M   56    JARDIM DA PENHA            0             0         0   \n",
       "2      F   62      MATA DA PRAIA            0             0         0   \n",
       "3      F    8  PONTAL DE CAMBURI            0             0         0   \n",
       "4      F   56    JARDIM DA PENHA            0             1         1   \n",
       "\n",
       "   Alcoholism  Handcap  SMS_received No-show  Waiting_Days ScheduledDay_DOW  \\\n",
       "0           0        0             0      No             0           Friday   \n",
       "1           0        0             0      No             0           Friday   \n",
       "2           0        0             0      No             0           Friday   \n",
       "3           0        0             0      No             0           Friday   \n",
       "4           0        0             0      No             0           Friday   \n",
       "\n",
       "  AppointmentDay_DOW  ScheduledDay_Y  ScheduledDay_M  ScheduledDay_D  \\\n",
       "0             Friday            2016               4              29   \n",
       "1             Friday            2016               4              29   \n",
       "2             Friday            2016               4              29   \n",
       "3             Friday            2016               4              29   \n",
       "4             Friday            2016               4              29   \n",
       "\n",
       "   AppointmentDay_Y  AppointmentDay_M  AppointmentDay_D  \n",
       "0              2016                 4                29  \n",
       "1              2016                 4                29  \n",
       "2              2016                 4                29  \n",
       "3              2016                 4                29  \n",
       "4              2016                 4                29  "
      ]
     },
     "execution_count": 15,
     "metadata": {},
     "output_type": "execute_result"
    }
   ],
   "source": [
    "#Remove Patient ID, Appointment ID  and Date columns to prepare the data for modeling \n",
    "df.drop(['PatientId', 'AppointmentID','ScheduledDay','AppointmentDay','AppointmentDay_New','ScheduledDay_New']\n",
    "        , axis=1, inplace=True)\n",
    "df.head()"
   ]
  },
  {
   "cell_type": "code",
   "execution_count": 16,
   "id": "bcb162fe",
   "metadata": {},
   "outputs": [],
   "source": [
    "# Rename No-show coulmn to NoShow\n",
    "df = df.rename(columns={'No-show': 'NoShow'})"
   ]
  },
  {
   "cell_type": "markdown",
   "id": "fb26eafd",
   "metadata": {},
   "source": [
    "## EDA"
   ]
  },
  {
   "cell_type": "code",
   "execution_count": 17,
   "id": "a5ba6819",
   "metadata": {},
   "outputs": [
    {
     "name": "stdout",
     "output_type": "stream",
     "text": [
      "Count of NoShow and Show\n",
      "NoShow\n",
      "No     88207\n",
      "Yes    22319\n",
      "dtype: int64\n"
     ]
    },
    {
     "data": {
      "image/png": "[encoded data removed]",
      "text/plain": [
       "<Figure size 432x288 with 1 Axes>"
      ]
     },
     "metadata": {
      "needs_background": "light"
     },
     "output_type": "display_data"
    }
   ],
   "source": [
    "print(\"Count of NoShow and Show\")\n",
    "print(df.groupby(['NoShow']).size())\n",
    "ax = sns.countplot(x=df.NoShow, data=df)\n",
    "ax.set_title(\"Show/NoShow Patients\")\n",
    "plt.show()"
   ]
  },
  {
   "cell_type": "markdown",
   "id": "25908108",
   "metadata": {},
   "source": [
    "#### Below plot to Show the relation between the NoShow and: Hypertension, Diabitc, AppointmentDay_DOW, Waiting Days and Age"
   ]
  },
  {
   "cell_type": "code",
   "execution_count": 18,
   "id": "4595b554",
   "metadata": {},
   "outputs": [],
   "source": [
    "# Get Noshow casess only\n",
    "df = df.rename(columns={'No-show': 'NoShow'})\n",
    "NoSowCases = df[df.NoShow == 'Yes']"
   ]
  },
  {
   "cell_type": "code",
   "execution_count": 219,
   "id": "f29c5c8b",
   "metadata": {},
   "outputs": [
    {
     "name": "stdout",
     "output_type": "stream",
     "text": [
      "NoShow Count for Hypertension\n",
      "\n",
      "Hipertension\n",
      "0    18547\n",
      "1     3772\n",
      "dtype: int64\n"
     ]
    },
    {
     "data": {
      "image/png": "[encoded data removed]",
      "text/plain": [
       "<Figure size 432x288 with 1 Axes>"
      ]
     },
     "metadata": {
      "needs_background": "light"
     },
     "output_type": "display_data"
    }
   ],
   "source": [
    "## Is the patient with chronic disease like hypertension and diabetic not attending their appointment?\n",
    "#Count of NoShow Patients by Hypertension\n",
    "print(\"NoShow Count for Hypertension\\n\")\n",
    "print(NoSowCases.groupby(['Hipertension']).size())\n",
    "#Visualization of NoShow Patients by Hypertension\n",
    "ax = sns.countplot(x=NoSowCases.Hipertension, hue =NoSowCases.NoShow, data=NoSowCases)\n",
    "ax.set_title(\"NoShow for Hypertension\")\n",
    "x_ticks_labels = ['No','Yes']\n",
    "ax.set_xticklabels(x_ticks_labels)\n",
    "plt.show()"
   ]
  },
  {
   "cell_type": "code",
   "execution_count": 19,
   "id": "d8089c97",
   "metadata": {
    "scrolled": false
   },
   "outputs": [
    {
     "name": "stdout",
     "output_type": "stream",
     "text": [
      "NoShow Count for Diabetic\n",
      "\n",
      "Diabetes\n",
      "0    20889\n",
      "1     1430\n",
      "dtype: int64\n"
     ]
    },
    {
     "data": {
      "image/png": "[encoded data removed]",
      "text/plain": [
       "<Figure size 432x288 with 1 Axes>"
      ]
     },
     "metadata": {
      "needs_background": "light"
     },
     "output_type": "display_data"
    }
   ],
   "source": [
    "#Print count of NoShow Patients by Diabetic\n",
    "print(\"NoShow Count for Diabetic\\n\")\n",
    "print(NoSowCases.groupby(['Diabetes']).size())\n",
    "#Visualization of NoShow Patients by Diabetic\n",
    "ax = sns.countplot(x=NoSowCases.Diabetes, hue =NoSowCases.NoShow, data=NoSowCases)\n",
    "ax.set_title(\"NoShow for Diabetic\")\n",
    "x_ticks_labels = ['No','Yes']\n",
    "ax.set_xticklabels(x_ticks_labels)\n",
    "plt.show()"
   ]
  },
  {
   "cell_type": "code",
   "execution_count": 221,
   "id": "889bc7d6",
   "metadata": {},
   "outputs": [
    {
     "name": "stdout",
     "output_type": "stream",
     "text": [
      "NoShow Count for Weekday\n",
      "\n",
      "AppointmentDay_DOW\n",
      "Friday       4037\n",
      "Monday       4689\n",
      "Saturday        9\n",
      "Thursday     3338\n",
      "Tuesday      5151\n",
      "Wednesday    5095\n",
      "dtype: int64\n"
     ]
    },
    {
     "data": {
      "image/png": "[encoded data removed]",
      "text/plain": [
       "<Figure size 432x288 with 1 Axes>"
      ]
     },
     "metadata": {
      "needs_background": "light"
     },
     "output_type": "display_data"
    }
   ],
   "source": [
    "#Print count of NoShow Patients by day of the week\n",
    "print(\"NoShow Count for Weekday\\n\")\n",
    "print(NoSowCases.groupby(['AppointmentDay_DOW']).size())\n",
    "#Visualization of NoShow Patients by Weekdat\n",
    "ax = sns.countplot(x=NoSowCases.AppointmentDay_DOW, hue =NoSowCases.NoShow, data=NoSowCases)\n",
    "ax.set_title(\"NoShow by Weekday\")\n",
    "#x_ticks_labels = ['No','Yes']\n",
    "#ax.set_xticklabels(x_ticks_labels)\n",
    "plt.show()"
   ]
  },
  {
   "cell_type": "code",
   "execution_count": 20,
   "id": "703710a5",
   "metadata": {},
   "outputs": [
    {
     "data": {
      "image/png": "[encoded data removed]",
      "text/plain": [
       "<Figure size 1152x288 with 1 Axes>"
      ]
     },
     "metadata": {
      "needs_background": "light"
     },
     "output_type": "display_data"
    }
   ],
   "source": [
    "#Visualization of NoShow Patients by Waiting Days\n",
    "plt.figure(figsize=(16,4))\n",
    "ax = sns.countplot(x=NoSowCases.Waiting_Days, order=NoSowCases.Waiting_Days.value_counts().iloc[:55].index)\n",
    "ax.set_title(\"No Show by Waiting Days\")\n",
    "plt.show()"
   ]
  },
  {
   "cell_type": "markdown",
   "id": "ca8ecee4",
   "metadata": {},
   "source": [
    "# Modeling"
   ]
  },
  {
   "cell_type": "code",
   "execution_count": 21,
   "id": "0bbf777e",
   "metadata": {},
   "outputs": [
    {
     "data": {
      "text/html": [
       "<div>\n",
       "<style scoped>\n",
       "    .dataframe tbody tr th:only-of-type {\n",
       "        vertical-align: middle;\n",
       "    }\n",
       "\n",
       "    .dataframe tbody tr th {\n",
       "        vertical-align: top;\n",
       "    }\n",
       "\n",
       "    .dataframe thead th {\n",
       "        text-align: right;\n",
       "    }\n",
       "</style>\n",
       "<table border=\"1\" class=\"dataframe\">\n",
       "  <thead>\n",
       "    <tr style=\"text-align: right;\">\n",
       "      <th></th>\n",
       "      <th>Gender</th>\n",
       "      <th>Age</th>\n",
       "      <th>Neighbourhood</th>\n",
       "      <th>Scholarship</th>\n",
       "      <th>Hipertension</th>\n",
       "      <th>Diabetes</th>\n",
       "      <th>Alcoholism</th>\n",
       "      <th>Handcap</th>\n",
       "      <th>SMS_received</th>\n",
       "      <th>NoShow</th>\n",
       "      <th>Waiting_Days</th>\n",
       "      <th>ScheduledDay_DOW</th>\n",
       "      <th>AppointmentDay_DOW</th>\n",
       "      <th>ScheduledDay_Y</th>\n",
       "      <th>ScheduledDay_M</th>\n",
       "      <th>ScheduledDay_D</th>\n",
       "      <th>AppointmentDay_Y</th>\n",
       "      <th>AppointmentDay_M</th>\n",
       "      <th>AppointmentDay_D</th>\n",
       "    </tr>\n",
       "  </thead>\n",
       "  <tbody>\n",
       "    <tr>\n",
       "      <th>0</th>\n",
       "      <td>0</td>\n",
       "      <td>62</td>\n",
       "      <td>39</td>\n",
       "      <td>0</td>\n",
       "      <td>1</td>\n",
       "      <td>0</td>\n",
       "      <td>0</td>\n",
       "      <td>0</td>\n",
       "      <td>0</td>\n",
       "      <td>0</td>\n",
       "      <td>0</td>\n",
       "      <td>0</td>\n",
       "      <td>0</td>\n",
       "      <td>2016</td>\n",
       "      <td>4</td>\n",
       "      <td>29</td>\n",
       "      <td>2016</td>\n",
       "      <td>4</td>\n",
       "      <td>29</td>\n",
       "    </tr>\n",
       "    <tr>\n",
       "      <th>1</th>\n",
       "      <td>1</td>\n",
       "      <td>56</td>\n",
       "      <td>39</td>\n",
       "      <td>0</td>\n",
       "      <td>0</td>\n",
       "      <td>0</td>\n",
       "      <td>0</td>\n",
       "      <td>0</td>\n",
       "      <td>0</td>\n",
       "      <td>0</td>\n",
       "      <td>0</td>\n",
       "      <td>0</td>\n",
       "      <td>0</td>\n",
       "      <td>2016</td>\n",
       "      <td>4</td>\n",
       "      <td>29</td>\n",
       "      <td>2016</td>\n",
       "      <td>4</td>\n",
       "      <td>29</td>\n",
       "    </tr>\n",
       "    <tr>\n",
       "      <th>2</th>\n",
       "      <td>0</td>\n",
       "      <td>62</td>\n",
       "      <td>45</td>\n",
       "      <td>0</td>\n",
       "      <td>0</td>\n",
       "      <td>0</td>\n",
       "      <td>0</td>\n",
       "      <td>0</td>\n",
       "      <td>0</td>\n",
       "      <td>0</td>\n",
       "      <td>0</td>\n",
       "      <td>0</td>\n",
       "      <td>0</td>\n",
       "      <td>2016</td>\n",
       "      <td>4</td>\n",
       "      <td>29</td>\n",
       "      <td>2016</td>\n",
       "      <td>4</td>\n",
       "      <td>29</td>\n",
       "    </tr>\n",
       "    <tr>\n",
       "      <th>3</th>\n",
       "      <td>0</td>\n",
       "      <td>8</td>\n",
       "      <td>54</td>\n",
       "      <td>0</td>\n",
       "      <td>0</td>\n",
       "      <td>0</td>\n",
       "      <td>0</td>\n",
       "      <td>0</td>\n",
       "      <td>0</td>\n",
       "      <td>0</td>\n",
       "      <td>0</td>\n",
       "      <td>0</td>\n",
       "      <td>0</td>\n",
       "      <td>2016</td>\n",
       "      <td>4</td>\n",
       "      <td>29</td>\n",
       "      <td>2016</td>\n",
       "      <td>4</td>\n",
       "      <td>29</td>\n",
       "    </tr>\n",
       "    <tr>\n",
       "      <th>4</th>\n",
       "      <td>0</td>\n",
       "      <td>56</td>\n",
       "      <td>39</td>\n",
       "      <td>0</td>\n",
       "      <td>1</td>\n",
       "      <td>1</td>\n",
       "      <td>0</td>\n",
       "      <td>0</td>\n",
       "      <td>0</td>\n",
       "      <td>0</td>\n",
       "      <td>0</td>\n",
       "      <td>0</td>\n",
       "      <td>0</td>\n",
       "      <td>2016</td>\n",
       "      <td>4</td>\n",
       "      <td>29</td>\n",
       "      <td>2016</td>\n",
       "      <td>4</td>\n",
       "      <td>29</td>\n",
       "    </tr>\n",
       "  </tbody>\n",
       "</table>\n",
       "</div>"
      ],
      "text/plain": [
       "   Gender  Age  Neighbourhood  Scholarship  Hipertension  Diabetes  \\\n",
       "0       0   62             39            0             1         0   \n",
       "1       1   56             39            0             0         0   \n",
       "2       0   62             45            0             0         0   \n",
       "3       0    8             54            0             0         0   \n",
       "4       0   56             39            0             1         1   \n",
       "\n",
       "   Alcoholism  Handcap  SMS_received  NoShow  Waiting_Days  ScheduledDay_DOW  \\\n",
       "0           0        0             0       0             0                 0   \n",
       "1           0        0             0       0             0                 0   \n",
       "2           0        0             0       0             0                 0   \n",
       "3           0        0             0       0             0                 0   \n",
       "4           0        0             0       0             0                 0   \n",
       "\n",
       "   AppointmentDay_DOW  ScheduledDay_Y  ScheduledDay_M  ScheduledDay_D  \\\n",
       "0                   0            2016               4              29   \n",
       "1                   0            2016               4              29   \n",
       "2                   0            2016               4              29   \n",
       "3                   0            2016               4              29   \n",
       "4                   0            2016               4              29   \n",
       "\n",
       "   AppointmentDay_Y  AppointmentDay_M  AppointmentDay_D  \n",
       "0              2016                 4                29  \n",
       "1              2016                 4                29  \n",
       "2              2016                 4                29  \n",
       "3              2016                 4                29  \n",
       "4              2016                 4                29  "
      ]
     },
     "execution_count": 21,
     "metadata": {},
     "output_type": "execute_result"
    }
   ],
   "source": [
    "# Use `LabelEncoder` to encode labels with value between 0 and n_classes-1.\n",
    "#Gender\n",
    "df['Gender'] = LabelEncoder().fit_transform(df['Gender'])\n",
    "#Neighbourhood\n",
    "df['Neighbourhood'] = LabelEncoder().fit_transform(df['Neighbourhood'])\n",
    "#AppointmentDay_DOW\n",
    "df['AppointmentDay_DOW'] = LabelEncoder().fit_transform(df['AppointmentDay_DOW'])\n",
    "#AppointmentDay_DOW\n",
    "df['ScheduledDay_DOW'] = LabelEncoder().fit_transform(df['ScheduledDay_DOW'])\n",
    "#NoShow\n",
    "df['NoShow'] = LabelEncoder().fit_transform(df['NoShow'])\n",
    "df.head()"
   ]
  },
  {
   "cell_type": "code",
   "execution_count": 22,
   "id": "93ca2f6b",
   "metadata": {},
   "outputs": [],
   "source": [
    "# split the dataset into features and Label\n",
    "labels = df['NoShow']\n",
    "features = df.drop('NoShow', axis = 1)\n",
    "features = pd.DataFrame(data = features)"
   ]
  },
  {
   "cell_type": "code",
   "execution_count": 23,
   "id": "8e586d61",
   "metadata": {},
   "outputs": [],
   "source": [
    "# Split the 'features' and 'Label' data into training and testing sets\n",
    "X_train, X_test, y_train, y_test = train_test_split(features, \n",
    "                                                    labels, \n",
    "                                                    test_size = 0.3, \n",
    "                                                    random_state = 0)"
   ]
  },
  {
   "cell_type": "code",
   "execution_count": 24,
   "id": "43db07ee",
   "metadata": {},
   "outputs": [],
   "source": [
    "# apply features scaling \n",
    "from sklearn.preprocessing import StandardScaler\n",
    "sc = StandardScaler()\n",
    "X_train = sc.fit_transform(X_train)\n",
    "X_test = sc.transform(X_test)"
   ]
  },
  {
   "cell_type": "markdown",
   "id": "0bb9993d",
   "metadata": {},
   "source": [
    "## Data is imbalance first will build the model without balance"
   ]
  },
  {
   "cell_type": "code",
   "execution_count": 25,
   "id": "f6af875a",
   "metadata": {},
   "outputs": [
    {
     "name": "stdout",
     "output_type": "stream",
     "text": [
      "[[24697  1868]\n",
      " [ 5293  1300]]\n",
      "              precision    recall  f1-score   support\n",
      "\n",
      "           0       0.82      0.93      0.87     26565\n",
      "           1       0.41      0.20      0.27      6593\n",
      "\n",
      "    accuracy                           0.78     33158\n",
      "   macro avg       0.62      0.56      0.57     33158\n",
      "weighted avg       0.74      0.78      0.75     33158\n",
      "\n",
      "F1 Score: 0.2663661510091179\n",
      "Precision: 0.41035353535353536\n",
      "Recall: 0.19717882602760503\n"
     ]
    },
    {
     "data": {
      "text/plain": [
       "<AxesSubplot:>"
      ]
     },
     "execution_count": 25,
     "metadata": {},
     "output_type": "execute_result"
    },
    {
     "data": {
      "image/png": "[encoded data removed]",
      "text/plain": [
       "<Figure size 432x288 with 2 Axes>"
      ]
     },
     "metadata": {
      "needs_background": "light"
     },
     "output_type": "display_data"
    }
   ],
   "source": [
    "#Imbalance Dataset RandomForestClassifier\n",
    "RF_Model = RandomForestClassifier(random_state=0)\n",
    "#RandomForestClassifier(n_estimators=100, max_features=auto)\n",
    "RF_Model.fit(X_train, y_train)\n",
    "y_pred = RF_Model.predict(X_test)\n",
    "print(confusion_matrix(y_test,y_pred))\n",
    "print(classification_report(y_test,y_pred))\n",
    "print(\"F1 Score:\",f1_score(y_test, y_pred))\n",
    "print(\"Precision:\",precision_score(y_test, y_pred))\n",
    "print(\"Recall:\",recall_score(y_test, y_pred))\n",
    "cm = confusion_matrix(y_test, y_pred) #confusion matrix to measure the accuracy of the test results \n",
    "sns.heatmap(cm, annot = True, linewidths=.5, cmap = \"YlGnBu\", fmt='g') # plot confusion matrix using heatmap"
   ]
  },
  {
   "cell_type": "code",
   "execution_count": 31,
   "id": "77bbda98",
   "metadata": {},
   "outputs": [
    {
     "name": "stdout",
     "output_type": "stream",
     "text": [
      "[[21735  4830]\n",
      " [ 4335  2258]]\n",
      "              precision    recall  f1-score   support\n",
      "\n",
      "           0       0.83      0.82      0.83     26565\n",
      "           1       0.32      0.34      0.33      6593\n",
      "\n",
      "    accuracy                           0.72     33158\n",
      "   macro avg       0.58      0.58      0.58     33158\n",
      "weighted avg       0.73      0.72      0.73     33158\n",
      "\n",
      "F1 Score: 0.3300928294715299\n",
      "Precision: 0.3185665914221219\n",
      "Recall: 0.34248445320794785\n"
     ]
    },
    {
     "data": {
      "text/plain": [
       "<AxesSubplot:>"
      ]
     },
     "execution_count": 31,
     "metadata": {},
     "output_type": "execute_result"
    },
    {
     "data": {
      "image/png": "[encoded data removed]",
      "text/plain": [
       "<Figure size 432x288 with 2 Axes>"
      ]
     },
     "metadata": {
      "needs_background": "light"
     },
     "output_type": "display_data"
    }
   ],
   "source": [
    "#Imbalance Dataset DecisionTreeClassifier\n",
    "DC = DecisionTreeClassifier()\n",
    "DC = DC.fit(X_train,y_train)\n",
    "y_pred2 = DC.predict(X_test)\n",
    "print(confusion_matrix(y_test,y_pred2))\n",
    "print(classification_report(y_test,y_pred2))\n",
    "print(\"F1 Score:\",f1_score(y_test, y_pred2))\n",
    "print(\"Precision:\",precision_score(y_test, y_pred2))\n",
    "print(\"Recall:\",recall_score(y_test, y_pred2))\n",
    "cm = confusion_matrix(y_test, y_pred2) #confusion matrix to measure the accuracy of the test results \n",
    "sns.heatmap(cm, annot = True, linewidths=.5, cmap = \"YlGnBu\", fmt='g') # plot confusion matrix using heatmap"
   ]
  },
  {
   "cell_type": "code",
   "execution_count": 32,
   "id": "e9ea4f71",
   "metadata": {},
   "outputs": [
    {
     "name": "stdout",
     "output_type": "stream",
     "text": [
      "[[26294   271]\n",
      " [ 6461   132]]\n",
      "              precision    recall  f1-score   support\n",
      "\n",
      "           0       0.80      0.99      0.89     26565\n",
      "           1       0.33      0.02      0.04      6593\n",
      "\n",
      "    accuracy                           0.80     33158\n",
      "   macro avg       0.57      0.50      0.46     33158\n",
      "weighted avg       0.71      0.80      0.72     33158\n",
      "\n",
      "F1 Score: 0.03773584905660377\n",
      "Precision: 0.32754342431761785\n",
      "Recall: 0.020021234642802973\n"
     ]
    },
    {
     "data": {
      "text/plain": [
       "<AxesSubplot:>"
      ]
     },
     "execution_count": 32,
     "metadata": {},
     "output_type": "execute_result"
    },
    {
     "data": {
      "image/png": "[encoded data removed]",
      "text/plain": [
       "<Figure size 432x288 with 2 Axes>"
      ]
     },
     "metadata": {
      "needs_background": "light"
     },
     "output_type": "display_data"
    }
   ],
   "source": [
    "#Imbalance Dataset LogisticRegression\n",
    "LR_Model =LogisticRegression(solver='liblinear')\n",
    "LR_Model=LR_Model.fit(X_train, y_train) #train\n",
    "y_pred3 = LR_Model.predict(X_test) #test\n",
    "print(confusion_matrix(y_test,y_pred3))\n",
    "print(classification_report(y_test,y_pred3))\n",
    "print(\"F1 Score:\",f1_score(y_test, y_pred3))\n",
    "print(\"Precision:\",precision_score(y_test, y_pred3))\n",
    "print(\"Recall:\",recall_score(y_test, y_pred3))\n",
    "cm = confusion_matrix(y_test, y_pred3) #confusion matrix to measure the accuracy of the test results \n",
    "sns.heatmap(cm, annot = True, linewidths=.5, cmap = \"YlGnBu\", fmt='g') # plot confusion matrix using heatmap"
   ]
  },
  {
   "cell_type": "markdown",
   "id": "acf28bea",
   "metadata": {},
   "source": [
    "## Balance Data"
   ]
  },
  {
   "cell_type": "code",
   "execution_count": 34,
   "id": "f96da76c",
   "metadata": {
    "scrolled": true
   },
   "outputs": [],
   "source": [
    "#SMOTE oversampling technique.\n",
    "from imblearn.over_sampling import SMOTE\n",
    "smote = SMOTE( random_state = 42)\n",
    "X_train_smote, y_train_smote = smote.fit_resample(X_train, y_train)"
   ]
  },
  {
   "cell_type": "code",
   "execution_count": 35,
   "id": "b26be3ac",
   "metadata": {},
   "outputs": [
    {
     "name": "stdout",
     "output_type": "stream",
     "text": [
      "[[22957  3608]\n",
      " [ 4511  2082]]\n",
      "              precision    recall  f1-score   support\n",
      "\n",
      "           0       0.84      0.86      0.85     26565\n",
      "           1       0.37      0.32      0.34      6593\n",
      "\n",
      "    accuracy                           0.76     33158\n",
      "   macro avg       0.60      0.59      0.59     33158\n",
      "weighted avg       0.74      0.76      0.75     33158\n",
      "\n",
      "F1 Score: 0.33900512904013674\n",
      "Precision: 0.36590509666080845\n",
      "Recall: 0.3157894736842105\n"
     ]
    },
    {
     "data": {
      "text/plain": [
       "<AxesSubplot:>"
      ]
     },
     "execution_count": 35,
     "metadata": {},
     "output_type": "execute_result"
    },
    {
     "data": {
      "image/png": "[encoded data removed]",
      "text/plain": [
       "<Figure size 432x288 with 2 Axes>"
      ]
     },
     "metadata": {
      "needs_background": "light"
     },
     "output_type": "display_data"
    }
   ],
   "source": [
    "#Balanced Dataset RandomForestClassifier\n",
    "RF_Model1 = RandomForestClassifier(random_state=0)\n",
    "RF_Model1= RF_Model1.fit(X_train_smote, y_train_smote)\n",
    "y_pred4 = RF_Model1.predict(X_test)\n",
    "print(confusion_matrix(y_test,y_pred4))\n",
    "print(classification_report(y_test,y_pred4))\n",
    "print(\"F1 Score:\",f1_score(y_test, y_pred4))\n",
    "print(\"Precision:\",precision_score(y_test, y_pred4))\n",
    "print(\"Recall:\",recall_score(y_test, y_pred4))\n",
    "cm = confusion_matrix(y_test, y_pred4) #confusion matrix to measure the accuracy of the test results \n",
    "sns.heatmap(cm, annot = True, linewidths=.5, cmap = \"YlGnBu\", fmt='g') # plot confusion matrix using heatmap"
   ]
  },
  {
   "cell_type": "code",
   "execution_count": 38,
   "id": "2c9d97b7",
   "metadata": {},
   "outputs": [
    {
     "name": "stdout",
     "output_type": "stream",
     "text": [
      "[[21160  5405]\n",
      " [ 4033  2560]]\n",
      "              precision    recall  f1-score   support\n",
      "\n",
      "           0       0.84      0.80      0.82     26565\n",
      "           1       0.32      0.39      0.35      6593\n",
      "\n",
      "    accuracy                           0.72     33158\n",
      "   macro avg       0.58      0.59      0.58     33158\n",
      "weighted avg       0.74      0.72      0.73     33158\n",
      "\n",
      "F1 Score: 0.3516966616293447\n",
      "Precision: 0.3214061519146265\n",
      "Recall: 0.3882906112543607\n"
     ]
    },
    {
     "data": {
      "text/plain": [
       "<AxesSubplot:>"
      ]
     },
     "execution_count": 38,
     "metadata": {},
     "output_type": "execute_result"
    },
    {
     "data": {
      "image/png": "[encoded data removed]",
      "text/plain": [
       "<Figure size 432x288 with 2 Axes>"
      ]
     },
     "metadata": {
      "needs_background": "light"
     },
     "output_type": "display_data"
    }
   ],
   "source": [
    "#Balanced Dataset DecisionTreeClassifier\n",
    "DC1 = DecisionTreeClassifier()\n",
    "DC1 = DC1.fit(X_train_smote,y_train_smote)\n",
    "y_pred5 = DC1.predict(X_test)\n",
    "print(confusion_matrix(y_test,y_pred5))\n",
    "print(classification_report(y_test,y_pred5))\n",
    "print(\"F1 Score:\",f1_score(y_test, y_pred5))\n",
    "print(\"Precision:\",precision_score(y_test, y_pred5))\n",
    "print(\"Recall:\",recall_score(y_test, y_pred5))\n",
    "cm = confusion_matrix(y_test, y_pred5) #confusion matrix to measure the accuracy of the test results \n",
    "sns.heatmap(cm, annot = True, linewidths=.5, cmap = \"YlGnBu\", fmt='g') # plot confusion matrix using heatmap"
   ]
  },
  {
   "cell_type": "code",
   "execution_count": 40,
   "id": "1bca22eb",
   "metadata": {},
   "outputs": [
    {
     "name": "stdout",
     "output_type": "stream",
     "text": [
      "[[18322  8243]\n",
      " [ 2880  3713]]\n",
      "              precision    recall  f1-score   support\n",
      "\n",
      "           0       0.86      0.69      0.77     26565\n",
      "           1       0.31      0.56      0.40      6593\n",
      "\n",
      "    accuracy                           0.66     33158\n",
      "   macro avg       0.59      0.63      0.58     33158\n",
      "weighted avg       0.75      0.66      0.69     33158\n",
      "\n",
      "F1 Score: 0.4003450320772009\n",
      "Precision: 0.31055536968885916\n",
      "Recall: 0.5631730623388442\n"
     ]
    },
    {
     "data": {
      "text/plain": [
       "<AxesSubplot:>"
      ]
     },
     "execution_count": 40,
     "metadata": {},
     "output_type": "execute_result"
    },
    {
     "data": {
      "image/png": "[encoded data removed]",
      "text/plain": [
       "<Figure size 432x288 with 2 Axes>"
      ]
     },
     "metadata": {
      "needs_background": "light"
     },
     "output_type": "display_data"
    }
   ],
   "source": [
    "#balance Dataset LogisticRegression\n",
    "LR_Model1 =LogisticRegression(solver='liblinear')\n",
    "LR_Model1=LR_Model1.fit(X_train_smote,y_train_smote) \n",
    "y_pred6 = LR_Model1.predict(X_test)\n",
    "print(confusion_matrix(y_test,y_pred6))\n",
    "cm = confusion_matrix(y_test, y_pred6) \n",
    "print(classification_report(y_test,y_pred6))\n",
    "print(\"F1 Score:\",f1_score(y_test, y_pred6))\n",
    "print(\"Precision:\",precision_score(y_test, y_pred6))\n",
    "print(\"Recall:\",recall_score(y_test, y_pred6))\n",
    "cm = confusion_matrix(y_test, y_pred6) #confusion matrix to measure the accuracy of the test results \n",
    "sns.heatmap(cm, annot = True, linewidths=.5, cmap = \"YlGnBu\", fmt='g') # plot confusion matrix using heatmap"
   ]
  },
  {
   "cell_type": "code",
   "execution_count": null,
   "id": "7e172ce7",
   "metadata": {},
   "outputs": [],
   "source": []
  }
 ],
 "metadata": {
  "kernelspec": {
   "display_name": "Python 3",
   "language": "python",
   "name": "python3"
  },
  "language_info": {
   "codemirror_mode": {
    "name": "ipython",
    "version": 3
   },
   "file_extension": ".py",
   "mimetype": "text/x-python",
   "name": "python",
   "nbconvert_exporter": "python",
   "pygments_lexer": "ipython3",
   "version": "3.8.8"
  }
 },
 "nbformat": 4,
 "nbformat_minor": 5
}
